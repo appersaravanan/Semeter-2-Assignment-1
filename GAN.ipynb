{
  "nbformat": 4,
  "nbformat_minor": 0,
  "metadata": {
    "colab": {
      "name": "GAN",
      "provenance": [],
      "collapsed_sections": [],
      "include_colab_link": true
    },
    "kernelspec": {
      "name": "python3",
      "display_name": "Python 3"
    },
    "accelerator": "GPU"
  },
  "cells": [
    {
      "cell_type": "markdown",
      "metadata": {
        "id": "view-in-github",
        "colab_type": "text"
      },
      "source": [
        "<a href=\"https://colab.research.google.com/github/appersaravanan/AI_Assignment3/blob/master/GAN.ipynb\" target=\"_parent\"><img src=\"https://colab.research.google.com/assets/colab-badge.svg\" alt=\"Open In Colab\"/></a>"
      ]
    },
    {
      "cell_type": "code",
      "metadata": {
        "id": "368N7QLmoRDF"
      },
      "source": [
        "import numpy as np\n",
        "import tensorflow as tf\n",
        "from tensorflow import keras\n",
        "from tensorflow.keras.layers import UpSampling2D,Input,BatchNormalization,Conv2D,Activation,Dropout,LeakyReLU,Flatten,Dense,Conv2DTranspose,Reshape\n",
        "\n",
        "from tensorflow.keras.models import Model,Sequential\n",
        "from tensorflow.keras.optimizers import Adam\n",
        "\n",
        "\n",
        "import matplotlib.pyplot as plt\n",
        "from random import randint\n",
        "from keras.datasets import mnist\n",
        "from tensorflow.data import Dataset\n",
        "import time,os\n",
        "\n",
        "from IPython import display\n",
        "\n",
        "\n"
      ],
      "execution_count": 21,
      "outputs": []
    },
    {
      "cell_type": "markdown",
      "metadata": {
        "id": "8SPdv_KFK8AD"
      },
      "source": [
        "##Load data from mnist"
      ]
    },
    {
      "cell_type": "markdown",
      "metadata": {
        "id": "ZJ8PptxFU-RX"
      },
      "source": [
        "                                                                    \n",
        "\n",
        "## Input is defined based on the mnist deminsion"
      ]
    },
    {
      "cell_type": "code",
      "metadata": {
        "id": "0pcSUoq8TNrX"
      },
      "source": [
        "#input shape. cifar images are 32*32 and with RGB color as 3\n",
        "input_shape=(28,28,1)\n",
        "\n"
      ],
      "execution_count": 14,
      "outputs": []
    },
    {
      "cell_type": "markdown",
      "metadata": {
        "id": "5_y52HDaT7eN"
      },
      "source": [
        "#Encoder part"
      ]
    },
    {
      "cell_type": "code",
      "metadata": {
        "id": "yVxQrNKTWyjY"
      },
      "source": [
        "\n",
        "\n",
        "def def_discriminator():\n",
        "  x = Sequential();\n",
        "  x.add(Conv2D(filters=32, kernel_size=(5, 5),  strides=(2,2) ,padding='same',input_shape=input_shape))\n",
        "  x.add(LeakyReLU(0.2))\n",
        "  x.add(Dropout(0.4))\n",
        "\n",
        "  x.add(Conv2D(filters=64, kernel_size=(5, 5),  strides=(2,2), padding='same'))\n",
        "  x.add(LeakyReLU(0.2))\n",
        "  x.add(Dropout(0.4))\n",
        "\n",
        "  x.add(Conv2D(filters=128, kernel_size=(5, 5),  strides=(2,2), padding='same'))\n",
        "  x.add(LeakyReLU(0.2))\n",
        "  x.add(Dropout(0.4))\n",
        "\n",
        "  x.add(Conv2D(filters=256, kernel_size=(5, 5), strides=(2,2), padding='same'))\n",
        "  x.add(LeakyReLU(0.2))\n",
        "  x.add(Dropout(0.4))\n",
        "  x.add(Flatten())\n",
        "  x.add(Dense(1,activation='sigmoid'))\n",
        "  img= Input(shape=input_shape)\n",
        "  validity=x(img)\n",
        "  return Model(img,validity)\n",
        "\n",
        "\n"
      ],
      "execution_count": 17,
      "outputs": []
    },
    {
      "cell_type": "code",
      "metadata": {
        "id": "XCaw62uJbrIY"
      },
      "source": [
        "dim=7\n",
        "depth=192\n",
        "\n",
        "def def_generator = Sequential()\n",
        "\n",
        "  g.add( Dense(dim*dim*depth,input_shape=(100,) )) \n",
        "  g.add( BatchNormalization())\n",
        "  g.add( Activation('relu'))\n",
        "\n",
        "  g.add( Reshape((dim, dim, depth)))\n",
        "  g.add( Dropout(0.4))\n",
        "  g.add(UpSampling2D((2, 2)))\n",
        "\n",
        "  g.add( Conv2DTranspose(filters=96, kernel_size=(5, 5), strides=1, padding='same') )\n",
        "  g.add(BatchNormalization())\n",
        "  g.add( Activation('relu'))\n",
        "  g.add( UpSampling2D((2, 2)))\n",
        "\n",
        "  g.add( Conv2DTranspose(filters=48, kernel_size=(5, 5), strides=1, padding='same'))\n",
        "  g.add(BatchNormalization())\n",
        "\n",
        "  g.add( Activation('relu'))\n",
        "\n",
        "\n",
        "  g.add(Conv2DTranspose(filters=24, kernel_size=(5, 5), strides=1, padding='same'))\n",
        "  g.add( BatchNormalization())\n",
        "  g.add( Activation('relu'))\n",
        "\n",
        "\n",
        "  g.add( Conv2DTranspose(filters=1, kernel_size=(5, 5), strides=1, padding='same')) \n",
        "  g.add(Activation('sigmoid'))\n",
        "  #generator.compile (loss='binary_crossentropy',optimizer=RMSprop(lr=0.0001, decay=3e-8), metrics=['accuracy'] )\n",
        "\n",
        "  g.summary()\n",
        "  noise=Input(shape=(100,))\n",
        "  img =g(noise)\n",
        "\n",
        "  return Model(noise,img);\n"
      ],
      "execution_count": 7,
      "outputs": []
    },
    {
      "cell_type": "code",
      "metadata": {
        "id": "wJGlkGmBgX5r"
      },
      "source": [
        "batch_size=32\n",
        "(x_train, _), (_, _) = mnist.load_data()\n",
        " \n",
        "x_train = (x_train.astype(np.float32) - 127.5) / 127.5\n",
        "x_train = np.expand_dims(x_train, axis=3) \n",
        "\n",
        "half_batch = int(batch_size / 2)"
      ],
      "execution_count": 29,
      "outputs": []
    },
    {
      "cell_type": "code",
      "metadata": {
        "id": "yMHl2yj3-sJR"
      },
      "source": [
        "graph_data=[]\n",
        "def train(epochs, batch_size=128, save_interval=50):\n",
        "\n",
        "    for epoch in range(epochs):\n",
        "        idx = np.random.randint(0, x_train.shape[0], half_batch)\n",
        "        imgs = x_train[idx] \n",
        "        noise = np.random.normal(0, 1, (half_batch, 100))\n",
        "        gen_imgs = generator.predict(noise)\n",
        "        d_loss_real = discriminator.train_on_batch(imgs, np.ones((half_batch, 1)))\n",
        "        d_loss_fake = discriminator.train_on_batch(gen_imgs, np.zeros((half_batch, 1)))\n",
        "        d_loss = d_loss_real +  d_loss_fake\n",
        "        noise = np.random.normal(0, 1, (batch_size, 100)) \n",
        "        valid_y = np.array([1] * batch_size) #Creates an array of all ones of size=batch size\n",
        "        g_loss = combined.train_on_batch(noise, valid_y)\n",
        "        graph_data.append((d_loss[0], g_loss))\n",
        "        # If at save interval => save generated image samples\n",
        "        if epoch % save_interval == 0 or (epoch == epochs or  epoch == epochs-1) :\n",
        "            print (\"%d [D loss: %f, acc.: %.2f%%] [G loss: %f]\" % (epoch, d_loss[0], 100*d_loss[1], g_loss))\n",
        "            save_imgs(epoch)\n",
        "\n",
        "\n",
        "def save_imgs(epoch):\n",
        "    r, c = 5, 5\n",
        "    noise = np.random.normal(0, 1, (r * c, 100))\n",
        "    gen_imgs = generator.predict(noise)\n",
        "\n",
        "    # Rescale images 0 - 1\n",
        "    gen_imgs = 0.5 * gen_imgs + 0.5\n",
        "\n",
        "    fig, axs = plt.subplots(r, c)\n",
        "    cnt = 0\n",
        "    for i in range(r):\n",
        "        for j in range(c):\n",
        "            axs[i,j].imshow(gen_imgs[cnt, :,:,0], cmap='gray')\n",
        "            axs[i,j].axis('off')\n",
        "            cnt += 1\n",
        "    print( os.listdir() )\n",
        "    fig.savefig(\"gan_%d.png\" % epoch)\n",
        "    plt.close()\n",
        "\n"
      ],
      "execution_count": 79,
      "outputs": []
    },
    {
      "cell_type": "code",
      "metadata": {
        "id": "f6Ela7vRbdGe",
        "outputId": "c50773c0-247f-498a-a414-99837ec882fd",
        "colab": {
          "base_uri": "https://localhost:8080/"
        }
      },
      "source": [
        "discriminator = def_discriminator()\n",
        "discriminator.compile(loss='binary_crossentropy',\n",
        "    optimizer=optimizer,\n",
        "    metrics=['accuracy'])\n",
        "\n",
        "\n",
        "generator = def_generator()\n",
        "generator.compile(loss='binary_crossentropy', optimizer=optimizer)\n",
        "\n",
        "z = Input(shape=(100,))  \n",
        "img = generator(z)\n",
        "\n",
        "discriminator.trainable = False  \n",
        "\n",
        "valid = discriminator(img)  #Validity check on the generated image\n",
        "\n",
        "\n",
        "\n",
        "combined = Model(z, valid)\n",
        "combined.compile(loss='binary_crossentropy', optimizer=optimizer)\n",
        "\n",
        "\n",
        "train(epochs=5000, batch_size=32, save_interval=1000)"
      ],
      "execution_count": 80,
      "outputs": [
        {
          "output_type": "stream",
          "text": [
            "Model: \"sequential_29\"\n",
            "_________________________________________________________________\n",
            "Layer (type)                 Output Shape              Param #   \n",
            "=================================================================\n",
            "dense_29 (Dense)             (None, 9408)              950208    \n",
            "_________________________________________________________________\n",
            "batch_normalization_56 (Batc (None, 9408)              37632     \n",
            "_________________________________________________________________\n",
            "activation_70 (Activation)   (None, 9408)              0         \n",
            "_________________________________________________________________\n",
            "reshape_14 (Reshape)         (None, 7, 7, 192)         0         \n",
            "_________________________________________________________________\n",
            "dropout_74 (Dropout)         (None, 7, 7, 192)         0         \n",
            "_________________________________________________________________\n",
            "up_sampling2d_28 (UpSampling (None, 14, 14, 192)       0         \n",
            "_________________________________________________________________\n",
            "conv2d_transpose_56 (Conv2DT (None, 14, 14, 96)        460896    \n",
            "_________________________________________________________________\n",
            "batch_normalization_57 (Batc (None, 14, 14, 96)        384       \n",
            "_________________________________________________________________\n",
            "activation_71 (Activation)   (None, 14, 14, 96)        0         \n",
            "_________________________________________________________________\n",
            "up_sampling2d_29 (UpSampling (None, 28, 28, 96)        0         \n",
            "_________________________________________________________________\n",
            "conv2d_transpose_57 (Conv2DT (None, 28, 28, 48)        115248    \n",
            "_________________________________________________________________\n",
            "batch_normalization_58 (Batc (None, 28, 28, 48)        192       \n",
            "_________________________________________________________________\n",
            "activation_72 (Activation)   (None, 28, 28, 48)        0         \n",
            "_________________________________________________________________\n",
            "conv2d_transpose_58 (Conv2DT (None, 28, 28, 24)        28824     \n",
            "_________________________________________________________________\n",
            "batch_normalization_59 (Batc (None, 28, 28, 24)        96        \n",
            "_________________________________________________________________\n",
            "activation_73 (Activation)   (None, 28, 28, 24)        0         \n",
            "_________________________________________________________________\n",
            "conv2d_transpose_59 (Conv2DT (None, 28, 28, 1)         601       \n",
            "_________________________________________________________________\n",
            "activation_74 (Activation)   (None, 28, 28, 1)         0         \n",
            "=================================================================\n",
            "Total params: 1,594,081\n",
            "Trainable params: 1,574,929\n",
            "Non-trainable params: 19,152\n",
            "_________________________________________________________________\n",
            "0 [D loss: 0.707241, acc.: 37.50%] [G loss: 1.182247]\n",
            "['.config', 'gan_0.png', 'gdrive', 'sample_data']\n",
            "1000 [D loss: 0.734509, acc.: 43.75%] [G loss: 0.818960]\n",
            "['.config', 'gan_0.png', 'gdrive', 'sample_data']\n",
            "2000 [D loss: 0.655124, acc.: 50.00%] [G loss: 0.759513]\n",
            "['.config', 'gan_1000.png', 'gan_0.png', 'gdrive', 'sample_data']\n",
            "3000 [D loss: 0.697704, acc.: 56.25%] [G loss: 0.831504]\n",
            "['.config', 'gan_2000.png', 'gan_1000.png', 'gan_0.png', 'gdrive', 'sample_data']\n",
            "4000 [D loss: 0.754399, acc.: 43.75%] [G loss: 0.713508]\n",
            "['.config', 'gan_2000.png', 'gan_1000.png', 'gan_3000.png', 'gan_0.png', 'gdrive', 'sample_data']\n",
            "4999 [D loss: 0.781153, acc.: 50.00%] [G loss: 0.875447]\n",
            "['.config', 'gan_2000.png', 'gan_4000.png', 'gan_1000.png', 'gan_3000.png', 'gan_0.png', 'gdrive', 'sample_data']\n"
          ],
          "name": "stdout"
        }
      ]
    },
    {
      "cell_type": "code",
      "metadata": {
        "id": "YxCh0eE1dr0u",
        "outputId": "ac4f0e46-79a3-4ac3-9d0a-4a9022eeadf1",
        "colab": {
          "base_uri": "https://localhost:8080/",
          "height": 54
        }
      },
      "source": [
        "\n",
        "print( os.listdir() )\n",
        "print(os.getcwd())\n",
        "from google.colab import files\n",
        "files.download( \"gan_4999.png\" ) \n",
        "\n"
      ],
      "execution_count": 83,
      "outputs": [
        {
          "output_type": "stream",
          "text": [
            "['.config', 'gan_2000.png', 'gan_4999.png', 'gan_4000.png', 'gan_1000.png', 'gan_3000.png', 'gan_0.png', 'gdrive', 'sample_data']\n",
            "/content\n"
          ],
          "name": "stdout"
        },
        {
          "output_type": "display_data",
          "data": {
            "application/javascript": [
              "\n",
              "    async function download(id, filename, size) {\n",
              "      if (!google.colab.kernel.accessAllowed) {\n",
              "        return;\n",
              "      }\n",
              "      const div = document.createElement('div');\n",
              "      const label = document.createElement('label');\n",
              "      label.textContent = `Downloading \"${filename}\": `;\n",
              "      div.appendChild(label);\n",
              "      const progress = document.createElement('progress');\n",
              "      progress.max = size;\n",
              "      div.appendChild(progress);\n",
              "      document.body.appendChild(div);\n",
              "\n",
              "      const buffers = [];\n",
              "      let downloaded = 0;\n",
              "\n",
              "      const channel = await google.colab.kernel.comms.open(id);\n",
              "      // Send a message to notify the kernel that we're ready.\n",
              "      channel.send({})\n",
              "\n",
              "      for await (const message of channel.messages) {\n",
              "        // Send a message to notify the kernel that we're ready.\n",
              "        channel.send({})\n",
              "        if (message.buffers) {\n",
              "          for (const buffer of message.buffers) {\n",
              "            buffers.push(buffer);\n",
              "            downloaded += buffer.byteLength;\n",
              "            progress.value = downloaded;\n",
              "          }\n",
              "        }\n",
              "      }\n",
              "      const blob = new Blob(buffers, {type: 'application/binary'});\n",
              "      const a = document.createElement('a');\n",
              "      a.href = window.URL.createObjectURL(blob);\n",
              "      a.download = filename;\n",
              "      div.appendChild(a);\n",
              "      a.click();\n",
              "      div.remove();\n",
              "    }\n",
              "  "
            ],
            "text/plain": [
              "<IPython.core.display.Javascript object>"
            ]
          },
          "metadata": {
            "tags": []
          }
        },
        {
          "output_type": "display_data",
          "data": {
            "application/javascript": [
              "download(\"download_fb3e0cc7-43dc-454c-a765-1347df218852\", \"gan_4999.png\", 34858)"
            ],
            "text/plain": [
              "<IPython.core.display.Javascript object>"
            ]
          },
          "metadata": {
            "tags": []
          }
        }
      ]
    },
    {
      "cell_type": "code",
      "metadata": {
        "id": "aWueQI4mu4j6",
        "outputId": "4e669801-02fe-4a98-ecb9-98f94d809ff1",
        "colab": {
          "base_uri": "https://localhost:8080/",
          "height": 563
        }
      },
      "source": [
        "losses = np.array(graph_data)\n",
        "\n",
        "fig, ax = plt.subplots()\n",
        "plt.plot(losses.T[0], label='Discriminator')\n",
        "\n",
        "\n",
        "plt.title(\"Training Losses\")\n",
        "plt.legend()\n",
        "\n",
        "\n",
        "fig, ax = plt.subplots()\n",
        "\n",
        "\n",
        "plt.plot(losses.T[1], label='Generator')\n",
        "plt.title(\"Training Losses\")\n",
        "plt.legend()"
      ],
      "execution_count": 86,
      "outputs": [
        {
          "output_type": "execute_result",
          "data": {
            "text/plain": [
              "<matplotlib.legend.Legend at 0x7f25f049ad30>"
            ]
          },
          "metadata": {
            "tags": []
          },
          "execution_count": 86
        },
        {
          "output_type": "display_data",
          "data": {
            "image/png": "[encoded data removed]",
            "text/plain": [
              "<Figure size 432x288 with 1 Axes>"
            ]
          },
          "metadata": {
            "tags": [],
            "needs_background": "light"
          }
        },
        {
          "output_type": "display_data",
          "data": {
            "image/png": "[encoded data removed]",
            "text/plain": [
              "<Figure size 432x288 with 1 Axes>"
            ]
          },
          "metadata": {
            "tags": [],
            "needs_background": "light"
          }
        }
      ]
    },
    {
      "cell_type": "code",
      "metadata": {
        "id": "XvfrqBaQG9PB"
      },
      "source": [
        "\n",
        "def train_step(images):\n",
        "    noise = np.random.randn(100, 100).astype(\"float32\")\n",
        "\n",
        "    with tf.GradientTape() as gen_tape, tf.GradientTape() as disc_tape:\n",
        "      generated_images = generator(noise, training=True)\n",
        "      #print(generated_images)\n",
        "      real_output = dis_model(images, training=True)\n",
        "      #print(real_output)\n",
        "      fake_output = dis_model(generated_images, training=True)\n",
        "      #print(fake_output)\n",
        "      gen_loss = generator_loss(fake_output)\n",
        "      # print(gen_loss)\n",
        "      disc_loss = discriminator_loss(real_output, fake_output)\n",
        "\n",
        "    gradients_of_generator = gen_tape.gradient(gen_loss, generator.trainable_variables)\n",
        "    gradients_of_discriminator = disc_tape.gradient(disc_loss, dis_model.trainable_variables)\n",
        "\n",
        "    generator_optimizer.apply_gradients(zip(gradients_of_generator, generator.trainable_variables))\n",
        "    discriminator_optimizer.apply_gradients(zip(gradients_of_discriminator, dis_model.trainable_variables))\n",
        "    #print(gen_loss)\n",
        "    print(\"gen loss: \", np.mean(gen_loss))\n",
        "    print(\"dis loss: \" ,np.mean(disc_loss))\n"
      ],
      "execution_count": 11,
      "outputs": []
    },
    {
      "cell_type": "code",
      "metadata": {
        "id": "I_4-6u-fA9Xk"
      },
      "source": [
        "def train(ds,epochs):\n",
        "  for i in range(epochs):\n",
        "    for images in ds:\n",
        "      # images= tf.cast(images,tf.dtypes.float32)\n",
        "      train_step(images)\n",
        "train(x_train_ds,1)"
      ],
      "execution_count": null,
      "outputs": []
    },
    {
      "cell_type": "code",
      "metadata": {
        "id": "tAR_VF7XP6rM",
        "outputId": "c947899a-114e-4234-843a-2559677b2b4b",
        "colab": {
          "base_uri": "https://localhost:8080/",
          "height": 283
        }
      },
      "source": [
        "plt.imshow(tf.reshape(generator(np.random.randn(1,100)),(28,28)),cmap=\"gray\")"
      ],
      "execution_count": 56,
      "outputs": [
        {
          "output_type": "execute_result",
          "data": {
            "text/plain": [
              "<matplotlib.image.AxesImage at 0x7f2602393cc0>"
            ]
          },
          "metadata": {
            "tags": []
          },
          "execution_count": 56
        },
        {
          "output_type": "display_data",
          "data": {
            "image/png": "[encoded data removed]",
            "text/plain": [
              "<Figure size 432x288 with 1 Axes>"
            ]
          },
          "metadata": {
            "tags": [],
            "needs_background": "light"
          }
        }
      ]
    }
  ]
}